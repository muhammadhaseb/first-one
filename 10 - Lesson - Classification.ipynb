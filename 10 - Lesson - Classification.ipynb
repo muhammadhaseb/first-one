{
 "cells": [
  {
   "cell_type": "markdown",
   "id": "ba741944",
   "metadata": {},
   "source": [
    "# Classification"
   ]
  },
  {
   "cell_type": "markdown",
   "id": "ee2ba19a",
   "metadata": {},
   "source": [
    "![Data Science Workflow](img/ds-workflow.png)"
   ]
  },
  {
   "cell_type": "markdown",
   "id": "52a2b3af",
   "metadata": {},
   "source": [
    "## What is Classification?\n",
    "- A **Machine Learing** algorithm\n",
    "- Try to classify rows of data into categories (classes)"
   ]
  },
  {
   "cell_type": "markdown",
   "id": "c89a9b72",
   "metadata": {},
   "source": [
    "## Machine Learning\n",
    "### Machine Learning with Python – for Beginners\n",
    "\n",
    "[**Machine Learning with Python is a 10+ hours FREE course**](https://www.learnpythonwithrune.org/machine-learning/)\n",
    "– a journey from zero to mastery.\n",
    "- The course consist of the following content.\n",
    "    - **15 video lessons** – which explain Machine Learning concepts, demonstrate models on real data, introduce projects and show a solution.\n",
    "    - **30 JuPyter Notebooks** – with the full code and explanation from the lectures and projects (GitHub).\n",
    "    - **15 projects** – with step guides to help you structure your solutions and solution explained in the end of video lessons."
   ]
  },
  {
   "cell_type": "markdown",
   "id": "e4165ca6",
   "metadata": {},
   "source": [
    "## What is Machine Learning?\n",
    "\n",
    "![Machine Learning](img/machine_learning.png)\n",
    "\n",
    "- In the **classical computing model** every thing is programmed into the algorithms. \n",
    "    - This has the limitation that all decision logic need to be understood before usage. \n",
    "    - And if things change, we need to modify the program.\n",
    "- With the **modern computing model (Machine Learning)** this paradigm is changes. \n",
    "    - We feed the algorithms (models) with data.\n",
    "    - Based on that data, the algorithms (models) make decisions in the program."
   ]
  },
  {
   "cell_type": "markdown",
   "id": "a2076760",
   "metadata": {},
   "source": [
    "## How Machine Learning Works\n",
    "\n",
    "### Phase 1: Learning\n",
    "\n",
    "![ML Learning](img/ml_process.png)\n",
    "\n",
    "- **Get Data**: Identify relevant data for the problem you want to solve. This data set should represent the type of data that the Machine Learn model will use to predict from in Phase 2 (predction).\n",
    "- **Pre-processing**: This step is about cleaning up data. While the Machine Learning is awesome, it cannot figure out what good data looks like. You need to do the cleaning as well as transforming data into a desired format.\n",
    "- **Train model**: This is where the magic happens, the learning step (Train model). There are three main paradigms in machine learning.\n",
    "    - **Supervised**: where you tell the algorithm what categories each data item is in. Each data item from the training set is tagged with the right answer.\n",
    "    - **Unsupervised**: is when the learning algorithm is not told what to do with it and it should make the structure itself.\n",
    "    - **Reinforcement**: teaches the machine to think for itself based on past action rewards.\n",
    "- **Test model**: Finally, the testing is done to see if the model is good. The training data was divided into a test set and training set. The test set is used to see if the model can predict from it. If not, a new model might be necessary.\n",
    "\n",
    "### Phase 2: Prediction\n",
    "\n",
    "![ML Prediction](img/ml_prediction.png)"
   ]
  },
  {
   "cell_type": "markdown",
   "id": "ca71b60e",
   "metadata": {},
   "source": [
    "## Supervised Learning\n",
    " - Given a dataset of input-output pairs, learn a function to map inputs to outputs\n",
    " - There are different tasks - but we start to focus on **Classification**\n",
    " \n",
    " \n",
    " ### Classification\n",
    " - **Supervised learning**: the task of learning a function mapping an input point to a descrete category"
   ]
  },
  {
   "cell_type": "markdown",
   "id": "473db377",
   "metadata": {},
   "source": [
    "### Example: Iris Flower Dataset\n",
    "- [Kaggle Iris Flower Dataset](https://www.kaggle.com/arshid/iris-flower-dataset)\n",
    "- Consists of three classes: `Iris-setosa`, `Iris-versicolor`, and `Iris-virginica`\n",
    "- Given depedent features can we predict class"
   ]
  },
  {
   "cell_type": "code",
   "execution_count": 34,
   "id": "218099dd",
   "metadata": {},
   "outputs": [],
   "source": [
    "import pandas as pd\n",
    "import numpy as np\n",
    "from sklearn.svm import SVC\n",
    "svc=SVC()\n",
    "from sklearn.model_selection import train_test_split\n",
    "from sklearn.neighbors import KNeighborsClassifier\n",
    "kn=KNeighborsClassifier()\n",
    "from sklearn.linear_model import LinearRegression\n",
    "lr=LinearRegression()\n",
    "from sklearn.inspection import permutation_importance\n",
    "import matplotlib.pyplot as plta"
   ]
  },
  {
   "cell_type": "code",
   "execution_count": 6,
   "id": "3aebf4ab",
   "metadata": {},
   "outputs": [],
   "source": [
    "data=pd.read_csv(r\"C:\\Users\\Haseeb Aqeel\\Desktop\\Data science books\\starter\\starter\\files\\iris.csv\")"
   ]
  },
  {
   "cell_type": "code",
   "execution_count": 7,
   "id": "91f6eeeb",
   "metadata": {},
   "outputs": [
    {
     "name": "stdout",
     "output_type": "stream",
     "text": [
      "<class 'pandas.core.frame.DataFrame'>\n",
      "RangeIndex: 150 entries, 0 to 149\n",
      "Data columns (total 6 columns):\n",
      " #   Column         Non-Null Count  Dtype  \n",
      "---  ------         --------------  -----  \n",
      " 0   Id             150 non-null    int64  \n",
      " 1   SepalLengthCm  150 non-null    float64\n",
      " 2   SepalWidthCm   150 non-null    float64\n",
      " 3   PetalLengthCm  150 non-null    float64\n",
      " 4   PetalWidthCm   150 non-null    float64\n",
      " 5   Species        150 non-null    object \n",
      "dtypes: float64(4), int64(1), object(1)\n",
      "memory usage: 7.2+ KB\n"
     ]
    }
   ],
   "source": [
    "data.info()"
   ]
  },
  {
   "cell_type": "markdown",
   "id": "6b371315",
   "metadata": {},
   "source": [
    "### Machine Leaning\n",
    "- A Few Machine Learning Models\n",
    "    - [`SVC`](https://scikit-learn.org/stable/modules/generated/sklearn.svm.SVC.html) C-Support Vector Classification.\n",
    "    - [`KNeighborsClassifier`](https://scikit-learn.org/stable/modules/generated/sklearn.neighbors.KNeighborsClassifier.html) Classifier implementing the k-nearest neighbors vote.\n",
    "- Steps\n",
    "    - **Step 1**: Assign independent features (those predicting) to `X`\n",
    "    - **Step 2**: Assign classes (labels/dependent features) to `y`\n",
    "    - **Step 3**: Divide into training and test sets\n",
    "    ```Python\n",
    "X_train, X_test, y_train, y_test = train_test_split(X, y, test_size=0.2, random_state=42)\n",
    "```\n",
    "    - **Step 4**: Create the model\n",
    "    ```Python\n",
    "svc = SVC()\n",
    "```\n",
    "    - **Step 5**: Fit the model\n",
    "    ```Python\n",
    "svc.fit(X_train, y_train)\n",
    "```\n",
    "    - **Step 6**: Predict with the model\n",
    "    ```Python\n",
    "y_pred = svc.predict(X_test)\n",
    "```\n",
    "    - **Step 7**: Test the accuracy\n",
    "    ```Python\n",
    "accuracy_score(y_test, y_pred)\n",
    "```"
   ]
  },
  {
   "cell_type": "code",
   "execution_count": 38,
   "id": "00735585",
   "metadata": {},
   "outputs": [],
   "source": [
    "x=data.drop(columns=['Species','Id'])\n",
    "y=data['Species']\n",
    "X_train, X_test, y_train, y_test = train_test_split(x, y, test_size=0.2, random_state=42)"
   ]
  },
  {
   "cell_type": "code",
   "execution_count": 39,
   "id": "f6c7004a",
   "metadata": {},
   "outputs": [
    {
     "data": {
      "text/html": [
       "<style>#sk-container-id-4 {color: black;background-color: white;}#sk-container-id-4 pre{padding: 0;}#sk-container-id-4 div.sk-toggleable {background-color: white;}#sk-container-id-4 label.sk-toggleable__label {cursor: pointer;display: block;width: 100%;margin-bottom: 0;padding: 0.3em;box-sizing: border-box;text-align: center;}#sk-container-id-4 label.sk-toggleable__label-arrow:before {content: \"▸\";float: left;margin-right: 0.25em;color: #696969;}#sk-container-id-4 label.sk-toggleable__label-arrow:hover:before {color: black;}#sk-container-id-4 div.sk-estimator:hover label.sk-toggleable__label-arrow:before {color: black;}#sk-container-id-4 div.sk-toggleable__content {max-height: 0;max-width: 0;overflow: hidden;text-align: left;background-color: #f0f8ff;}#sk-container-id-4 div.sk-toggleable__content pre {margin: 0.2em;color: black;border-radius: 0.25em;background-color: #f0f8ff;}#sk-container-id-4 input.sk-toggleable__control:checked~div.sk-toggleable__content {max-height: 200px;max-width: 100%;overflow: auto;}#sk-container-id-4 input.sk-toggleable__control:checked~label.sk-toggleable__label-arrow:before {content: \"▾\";}#sk-container-id-4 div.sk-estimator input.sk-toggleable__control:checked~label.sk-toggleable__label {background-color: #d4ebff;}#sk-container-id-4 div.sk-label input.sk-toggleable__control:checked~label.sk-toggleable__label {background-color: #d4ebff;}#sk-container-id-4 input.sk-hidden--visually {border: 0;clip: rect(1px 1px 1px 1px);clip: rect(1px, 1px, 1px, 1px);height: 1px;margin: -1px;overflow: hidden;padding: 0;position: absolute;width: 1px;}#sk-container-id-4 div.sk-estimator {font-family: monospace;background-color: #f0f8ff;border: 1px dotted black;border-radius: 0.25em;box-sizing: border-box;margin-bottom: 0.5em;}#sk-container-id-4 div.sk-estimator:hover {background-color: #d4ebff;}#sk-container-id-4 div.sk-parallel-item::after {content: \"\";width: 100%;border-bottom: 1px solid gray;flex-grow: 1;}#sk-container-id-4 div.sk-label:hover label.sk-toggleable__label {background-color: #d4ebff;}#sk-container-id-4 div.sk-serial::before {content: \"\";position: absolute;border-left: 1px solid gray;box-sizing: border-box;top: 0;bottom: 0;left: 50%;z-index: 0;}#sk-container-id-4 div.sk-serial {display: flex;flex-direction: column;align-items: center;background-color: white;padding-right: 0.2em;padding-left: 0.2em;position: relative;}#sk-container-id-4 div.sk-item {position: relative;z-index: 1;}#sk-container-id-4 div.sk-parallel {display: flex;align-items: stretch;justify-content: center;background-color: white;position: relative;}#sk-container-id-4 div.sk-item::before, #sk-container-id-4 div.sk-parallel-item::before {content: \"\";position: absolute;border-left: 1px solid gray;box-sizing: border-box;top: 0;bottom: 0;left: 50%;z-index: -1;}#sk-container-id-4 div.sk-parallel-item {display: flex;flex-direction: column;z-index: 1;position: relative;background-color: white;}#sk-container-id-4 div.sk-parallel-item:first-child::after {align-self: flex-end;width: 50%;}#sk-container-id-4 div.sk-parallel-item:last-child::after {align-self: flex-start;width: 50%;}#sk-container-id-4 div.sk-parallel-item:only-child::after {width: 0;}#sk-container-id-4 div.sk-dashed-wrapped {border: 1px dashed gray;margin: 0 0.4em 0.5em 0.4em;box-sizing: border-box;padding-bottom: 0.4em;background-color: white;}#sk-container-id-4 div.sk-label label {font-family: monospace;font-weight: bold;display: inline-block;line-height: 1.2em;}#sk-container-id-4 div.sk-label-container {text-align: center;}#sk-container-id-4 div.sk-container {/* jupyter's `normalize.less` sets `[hidden] { display: none; }` but bootstrap.min.css set `[hidden] { display: none !important; }` so we also need the `!important` here to be able to override the default hidden behavior on the sphinx rendered scikit-learn.org. See: https://github.com/scikit-learn/scikit-learn/issues/21755 */display: inline-block !important;position: relative;}#sk-container-id-4 div.sk-text-repr-fallback {display: none;}</style><div id=\"sk-container-id-4\" class=\"sk-top-container\"><div class=\"sk-text-repr-fallback\"><pre>SVC()</pre><b>In a Jupyter environment, please rerun this cell to show the HTML representation or trust the notebook. <br />On GitHub, the HTML representation is unable to render, please try loading this page with nbviewer.org.</b></div><div class=\"sk-container\" hidden><div class=\"sk-item\"><div class=\"sk-estimator sk-toggleable\"><input class=\"sk-toggleable__control sk-hidden--visually\" id=\"sk-estimator-id-4\" type=\"checkbox\" checked><label for=\"sk-estimator-id-4\" class=\"sk-toggleable__label sk-toggleable__label-arrow\">SVC</label><div class=\"sk-toggleable__content\"><pre>SVC()</pre></div></div></div></div></div>"
      ],
      "text/plain": [
       "SVC()"
      ]
     },
     "execution_count": 39,
     "metadata": {},
     "output_type": "execute_result"
    }
   ],
   "source": [
    "svc.fit(X_train,y_train)"
   ]
  },
  {
   "cell_type": "code",
   "execution_count": 40,
   "id": "e67dbf4d",
   "metadata": {},
   "outputs": [],
   "source": [
    "y_pred=svc.predict(X_test)"
   ]
  },
  {
   "cell_type": "code",
   "execution_count": 41,
   "id": "fe90c3c8",
   "metadata": {},
   "outputs": [
    {
     "data": {
      "text/plain": [
       "1.0"
      ]
     },
     "execution_count": 41,
     "metadata": {},
     "output_type": "execute_result"
    }
   ],
   "source": [
    "from sklearn.metrics import accuracy_score\n",
    "accuracy_score(y_pred,y_test)"
   ]
  },
  {
   "cell_type": "markdown",
   "id": "1f71cc09",
   "metadata": {},
   "source": [
    "### Finding most important feature\n",
    "- [`permutation_importance`](https://scikit-learn.org/stable/modules/generated/sklearn.inspection.permutation_importance.html) Permutation importance for feature evaluation.\n",
    "- Use the `permutation_importance` to calculate it.\n",
    "```Python\n",
    "perm_importance = permutation_importance(svc, X_test, y_test)\n",
    "```\n",
    "- The results will be found in `perm_importance.importances_mean`"
   ]
  },
  {
   "cell_type": "code",
   "execution_count": 42,
   "id": "7c3ac828",
   "metadata": {},
   "outputs": [
    {
     "data": {
      "text/plain": [
       "array([0.        , 0.00666667, 0.66666667, 0.20666667])"
      ]
     },
     "execution_count": 42,
     "metadata": {},
     "output_type": "execute_result"
    }
   ],
   "source": [
    "perm_importance = permutation_importance(svc, X_test, y_test)\n",
    "perm_importance.importances_mean"
   ]
  },
  {
   "cell_type": "code",
   "execution_count": null,
   "id": "21cc49c1",
   "metadata": {},
   "outputs": [],
   "source": [
    "from"
   ]
  },
  {
   "cell_type": "code",
   "execution_count": null,
   "id": "692625c8",
   "metadata": {},
   "outputs": [],
   "source": []
  },
  {
   "cell_type": "code",
   "execution_count": null,
   "id": "65887bcf",
   "metadata": {},
   "outputs": [],
   "source": []
  },
  {
   "cell_type": "markdown",
   "id": "8539fd26",
   "metadata": {},
   "source": [
    "### Visualize the features by importance\n",
    "- The most important features are given by `perm_importance.importances_mean.argsort()`\n",
    "    - HINT: assign it to `sorted_idx`\n",
    "- To visualize it we can create a DataFrame\n",
    "```Python\n",
    "pd.DataFrame(perm_importance.importances_mean[sorted_idx], X_test.columns[sorted_idx], columns=['Value'])\n",
    "```\n",
    "- Then make a `barh` plot (use `figsize`)"
   ]
  },
  {
   "cell_type": "code",
   "execution_count": 43,
   "id": "7e8e3a55",
   "metadata": {},
   "outputs": [],
   "source": [
    "sorted_idx=perm_importance.importances_mean.argsort()"
   ]
  },
  {
   "cell_type": "code",
   "execution_count": 44,
   "id": "6681f283",
   "metadata": {},
   "outputs": [
    {
     "data": {
      "text/plain": [
       "<AxesSubplot:>"
      ]
     },
     "execution_count": 44,
     "metadata": {},
     "output_type": "execute_result"
    },
    {
     "data": {
      "image/png": "[encoded data removed]",
      "text/plain": [
       "<Figure size 432x288 with 1 Axes>"
      ]
     },
     "metadata": {
      "needs_background": "light"
     },
     "output_type": "display_data"
    }
   ],
   "source": [
    "df=pd.DataFrame(perm_importance.importances_mean[sorted_idx], X_test.columns[sorted_idx], columns=['Value'])\n",
    "df.plot.barh()"
   ]
  },
  {
   "cell_type": "markdown",
   "id": "c6dfea76",
   "metadata": {},
   "source": [
    "### KNeighborsClassifier\n",
    "- It is similar for `KNeighborsClassifier`"
   ]
  },
  {
   "cell_type": "code",
   "execution_count": null,
   "id": "47e0a65f",
   "metadata": {},
   "outputs": [],
   "source": []
  },
  {
   "cell_type": "code",
   "execution_count": null,
   "id": "39c02c62",
   "metadata": {},
   "outputs": [],
   "source": []
  },
  {
   "cell_type": "code",
   "execution_count": null,
   "id": "3c97d9cb",
   "metadata": {},
   "outputs": [],
   "source": []
  },
  {
   "cell_type": "code",
   "execution_count": null,
   "id": "b5e328e2",
   "metadata": {},
   "outputs": [],
   "source": []
  }
 ],
 "metadata": {
  "kernelspec": {
   "display_name": "Python 3 (ipykernel)",
   "language": "python",
   "name": "python3"
  },
  "language_info": {
   "codemirror_mode": {
    "name": "ipython",
    "version": 3
   },
   "file_extension": ".py",
   "mimetype": "text/x-python",
   "name": "python",
   "nbconvert_exporter": "python",
   "pygments_lexer": "ipython3",
   "version": "3.9.12"
  }
 },
 "nbformat": 4,
 "nbformat_minor": 5
}
